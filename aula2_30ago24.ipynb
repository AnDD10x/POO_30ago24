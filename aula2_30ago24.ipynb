{
  "nbformat": 4,
  "nbformat_minor": 0,
  "metadata": {
    "colab": {
      "provenance": [],
      "authorship_tag": "ABX9TyOaSr0UU/L+BgRNRkXuwRKq",
      "include_colab_link": true
    },
    "kernelspec": {
      "name": "python3",
      "display_name": "Python 3"
    },
    "language_info": {
      "name": "python"
    }
  },
  "cells": [
    {
      "cell_type": "markdown",
      "metadata": {
        "id": "view-in-github",
        "colab_type": "text"
      },
      "source": [
        "<a href=\"https://colab.research.google.com/github/AnDD10x/POO_30ago24/blob/main/aula2_30ago24.ipynb\" target=\"_parent\"><img src=\"https://colab.research.google.com/assets/colab-badge.svg\" alt=\"Open In Colab\"/></a>"
      ]
    },
    {
      "cell_type": "code",
      "execution_count": 2,
      "metadata": {
        "id": "hvtAD8c2dL_Y",
        "colab": {
          "base_uri": "https://localhost:8080/"
        },
        "outputId": "4506bcb8-a2c0-4c2c-e1f3-a78e3775a24e"
      },
      "outputs": [
        {
          "output_type": "stream",
          "name": "stdout",
          "text": [
            "digite valor em Grau Fahrenheit: 50\n",
            "O valor de 50.0ºF corresponde ao valor de 10.0ºC\n"
          ]
        }
      ],
      "source": [
        "F = float(input(\"digite valor em Grau Fahrenheit: \"))\n",
        "C = (5/9)*(F-32)\n",
        "print(f\"O valor de {F}ºF corresponde ao valor de {C}ºC\")"
      ]
    },
    {
      "cell_type": "markdown",
      "source": [
        "EX 2\n",
        "\n",
        "> Converter Polegadas para m\n",
        "\n",
        "\n",
        "\n",
        "Entrada P>\n",
        "Processamento mm>\n",
        "P*25.4>\n",
        "Saida MM"
      ],
      "metadata": {
        "id": "3SL-x6AAj3qN"
      }
    },
    {
      "cell_type": "code",
      "source": [
        "P = float(input(\"Digite valor em Polegadas: \"))\n",
        "MM = P*25.4\n",
        "print(f\"O valor de {P}pol corresponde ao valor de {MM:.2f}mm\")"
      ],
      "metadata": {
        "id": "YaEx79sGkDrG",
        "outputId": "ffdd9f71-d3a9-405e-a72c-47a624068f7e",
        "colab": {
          "base_uri": "https://localhost:8080/"
        }
      },
      "execution_count": 4,
      "outputs": [
        {
          "output_type": "stream",
          "name": "stdout",
          "text": [
            "Digite valor em Polegadas: 13\n",
            "O valor de 13.0pol corresponde ao valor de 330.20mm\n"
          ]
        }
      ]
    },
    {
      "cell_type": "markdown",
      "source": [
        "EXERCICIOS AULA 2 30AGO\n",
        "\n",
        "\n",
        "> Programa que calcule o raio de um esfera e exiba seu volume\n",
        "\n",
        "Import math>Real r,v>Entrada R>Processamento V>4/3.0*PI/r*r*r> saida V\n"
      ],
      "metadata": {
        "id": "OIQlndd0lsWn"
      }
    },
    {
      "cell_type": "code",
      "source": [
        "import math\n",
        "r = float(input(\"Digite o raio da esfera: \"))\n",
        "v = (4/3) * math.pi * (r ** 3)\n",
        "print(f\"O volume do raio {r} é de {v:.2f}\")"
      ],
      "metadata": {
        "colab": {
          "base_uri": "https://localhost:8080/"
        },
        "id": "_qJmBiAvnBEe",
        "outputId": "128dd981-7174-4205-fd61-7e889cb76c80"
      },
      "execution_count": null,
      "outputs": [
        {
          "output_type": "stream",
          "name": "stdout",
          "text": [
            "Digite o raio da esfera: 10\n",
            "O volume do raio 10.0 é de 4188.79\n"
          ]
        }
      ]
    },
    {
      "cell_type": "markdown",
      "source": [
        "\n",
        "\n",
        "> Programa que converte angulos para radiano\n",
        "\n",
        "Import math>Real g,r> Entrada g> Processamento r= g*pi/180.0> Exibir em radianos\n"
      ],
      "metadata": {
        "id": "T1OTfZH-tU0n"
      }
    },
    {
      "cell_type": "code",
      "source": [
        "import math\n",
        "g = float(input(\"Digite o um ângulo em graus para transformar em radiano: \"))\n",
        "r = g* math.pi /180.0\n",
        "print(f\"O angulo {g}graus em radiano seria de {r: }radianos\")"
      ],
      "metadata": {
        "colab": {
          "base_uri": "https://localhost:8080/"
        },
        "id": "EzM-WyLyu5pc",
        "outputId": "c8bda9ec-ec20-4c3a-d0f9-9b4af17b40af"
      },
      "execution_count": null,
      "outputs": [
        {
          "output_type": "stream",
          "name": "stdout",
          "text": [
            "Digite o um ângulo em graus para transformar em radiano: 20\n",
            "O angulo 20.0graus em radiano seria de  0.3490658503988659\n"
          ]
        }
      ]
    },
    {
      "cell_type": "markdown",
      "source": [
        "\n",
        "\n",
        "> Programa que converte radianos para graus\n",
        "\n",
        "import math>Real r,g> Entrada r> Processamento g= r*180.0/pi> Exibir em graus\n",
        "\n"
      ],
      "metadata": {
        "id": "7JisJv-NwPq_"
      }
    },
    {
      "cell_type": "code",
      "source": [
        "import math\n",
        "r = float(input(\"Digite a medida em radianos para converter em graus: \"))\n",
        "g = r * 180.0 / math.pi\n",
        "print(f\"O valor de {r} radianos em graus são de: {g: .2f} graus\")"
      ],
      "metadata": {
        "colab": {
          "base_uri": "https://localhost:8080/"
        },
        "id": "biW0nz3bxAlF",
        "outputId": "fa384348-d155-4c80-dada-2b56cd27da89"
      },
      "execution_count": null,
      "outputs": [
        {
          "output_type": "stream",
          "name": "stdout",
          "text": [
            "Digite a medida em radianos para converter em graus: 32\n",
            "O valor de 32.0 radianos em graus são de:  1833.46 graus\n"
          ]
        }
      ]
    },
    {
      "cell_type": "markdown",
      "source": [
        "\n",
        "\n",
        "> Progrma que converte radiano para grados\n",
        "\n",
        "import math>Real r,gr> Ler r> Processamento Gr =400*r/(2*pi)> Exibir gr\n",
        "\n",
        "\n"
      ],
      "metadata": {
        "id": "AnR-ojBAyhPO"
      }
    },
    {
      "cell_type": "code",
      "source": [
        "import math\n",
        "r = float(input(\"Digite o angulo em radianos para para converter em grados\"))\n",
        "gr = 400 * r / (2 * math.pi)\n",
        "print(f\"O vlaor de {r} radianos em grados são de: {gr: .2f} grados\")"
      ],
      "metadata": {
        "colab": {
          "base_uri": "https://localhost:8080/"
        },
        "id": "hLu6F_4BziQ9",
        "outputId": "b62d7dbb-04e7-4eff-f3c6-613c185b9879"
      },
      "execution_count": null,
      "outputs": [
        {
          "output_type": "stream",
          "name": "stdout",
          "text": [
            "Digite o angulo em radianos para para converter em grados18\n",
            "O vlaor de 18.0 radianos em grados são de  1145.92\n"
          ]
        }
      ]
    }
  ]
}